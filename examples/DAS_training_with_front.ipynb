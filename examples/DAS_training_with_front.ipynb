{
 "cells": [
  {
   "cell_type": "markdown",
   "metadata": {},
   "source": [
    "### Import packages correction"
   ]
  },
  {
   "cell_type": "code",
   "execution_count": 1,
   "metadata": {},
   "outputs": [],
   "source": [
    "import os\n",
    "import sys\n",
    "module_path = os.path.abspath(os.path.join('..'))\n",
    "if module_path not in sys.path:\n",
    "    sys.path.append(module_path)\n",
    "import tensorflow as tf"
   ]
  },
  {
   "cell_type": "markdown",
   "metadata": {},
   "source": [
    "# Get your datasets"
   ]
  },
  {
   "cell_type": "code",
   "execution_count": null,
   "metadata": {},
   "outputs": [],
   "source": [
    "from data.dataset import H5PY_RW\n",
    "from data.data_tools import read_data_header, males_keys, females_keys\n",
    "\n",
    "file = 'test_raw_16k.h5py'\n",
    "H5_dic = read_data_header()\n",
    "chunk_size = 512*10\n",
    "\n",
    "males = H5PY_RW().open_h5_dataset(file, subset = males_keys(H5_dic)).set_chunk(chunk_size).shuffle()\n",
    "fem = H5PY_RW().open_h5_dataset(file, subset = females_keys(H5_dic)).set_chunk(chunk_size).shuffle()\n",
    "print 'Data with', len(H5_dic), 'male and female speakers'\n"
   ]
  },
  {
   "cell_type": "markdown",
   "metadata": {},
   "source": [
    "# Mixing the dataset"
   ]
  },
  {
   "cell_type": "code",
   "execution_count": 3,
   "metadata": {},
   "outputs": [],
   "source": [
    "from data.dataset import Mixer\n",
    "\n",
    "mixed_data = Mixer([males, fem], with_mask=False, with_inputs=True)\n",
    "\n",
    "# Training set selection\n",
    "mixed_data.select_split(0)"
   ]
  },
  {
   "cell_type": "markdown",
   "metadata": {},
   "source": [
    "# Model pretrained loading"
   ]
  },
  {
   "cell_type": "code",
   "execution_count": 4,
   "metadata": {},
   "outputs": [],
   "source": [
    "N = 256\n",
    "max_pool = 128\n",
    "batch_size = 8\n",
    "learning_rate = 0.001\n",
    "\n",
    "config_model = {}\n",
    "config_model[\"type\"] = \"pretraining\"\n",
    "\n",
    "config_model[\"batch_size\"] = batch_size\n",
    "config_model[\"chunk_size\"] = chunk_size\n",
    "\n",
    "config_model[\"N\"] = N\n",
    "config_model[\"maxpool\"] = max_pool\n",
    "config_model[\"window\"] = 1024\n",
    "\n",
    "config_model[\"smooth_size\"] = 20\n",
    "\n",
    "config_model[\"alpha\"] = learning_rate\n",
    "config_model[\"reg\"] = 1e-4\n",
    "config_model[\"beta\"] = 0.1\n",
    "config_model[\"rho\"] = 0.01\n",
    "\n",
    "idd = ''.join('-{}={}-'.format(key, val) for key, val in sorted(config_model.items()))\n",
    "batch_size = 1\n",
    "config_model[\"batch_size\"] = batch_size\n",
    "config_model[\"type\"] = \"DAS_train_front\""
   ]
  },
  {
   "cell_type": "code",
   "execution_count": 5,
   "metadata": {
    "scrolled": false
   },
   "outputs": [
    {
     "name": "stdout",
     "output_type": "stream",
     "text": [
      "ID : AdaptiveNet-orange-fire-5150\n",
      "INFO:tensorflow:Restoring parameters from /home/anthony/das/floydhub_model/pretraining/AdaptiveNet-soft-base-9900-N=256--alpha=0.001--batch_size=8--beta=0.1--chunk_size=5120--maxpool=128--reg=0.0001--rho=0.01--smooth_size=20--type=pretraining--window=1024-/model.ckpt\n"
     ]
    }
   ],
   "source": [
    "from models.adapt import Adapt\n",
    "import config\n",
    "\n",
    "full_id = 'soft-base-9900'+idd\n",
    "\n",
    "folder='DAS_train_front'\n",
    "model = Adapt(config_model=config_model,pretraining=False)\n",
    "model.create_saver()\n",
    "\n",
    "path = os.path.join(config.workdir, 'floydhub_model', \"pretraining\")\n",
    "# path = os.path.join(config.log_dir, \"pretraining\")\n",
    "model.restore_model(path, full_id)"
   ]
  },
  {
   "cell_type": "markdown",
   "metadata": {},
   "source": [
    "## Connect DAS model to the front end"
   ]
  },
  {
   "cell_type": "code",
   "execution_count": 6,
   "metadata": {
    "scrolled": true
   },
   "outputs": [
    {
     "name": "stdout",
     "output_type": "stream",
     "text": [
      "<utils.ops.ops.Conv2D instance at 0x7f3bac0cd710>\n",
      "<utils.ops.ops.BatchNorm instance at 0x7f3bac0cd5f0>\n",
      "<utils.ops.ops.Activation instance at 0x7f3bac0cd950>\n",
      "<utils.ops.ops.Dropout instance at 0x7f3bac0cd7e8>\n",
      "<utils.ops.ops.Conv2D instance at 0x7f3bac0cd7a0>\n",
      "<utils.ops.ops.BatchNorm instance at 0x7f3bac0cd758>\n",
      "<utils.ops.ops.Activation instance at 0x7f3bac0cd998>\n",
      "<utils.ops.ops.Conv2D instance at 0x7f3bac0cd9e0>\n",
      "<utils.ops.ops.BatchNorm instance at 0x7f3bac0cda28>\n",
      "<utils.ops.ops.Activation instance at 0x7f3bac0cda70>\n",
      "<utils.ops.ops.Dropout instance at 0x7f3bac0cdab8>\n",
      "<utils.ops.ops.Conv2D instance at 0x7f3bac0cdb00>\n",
      "<utils.ops.ops.BatchNorm instance at 0x7f3bac0cdb48>\n",
      "<utils.ops.ops.Activation instance at 0x7f3bac0cdb90>\n",
      "<utils.ops.ops.Conv2D instance at 0x7f3bac0cdbd8>\n",
      "<utils.ops.ops.BatchNorm instance at 0x7f3bac0cdc20>\n",
      "<utils.ops.ops.Activation instance at 0x7f3bac0cdc68>\n",
      "<utils.ops.ops.Dropout instance at 0x7f3bac0cdcb0>\n",
      "<utils.ops.ops.Conv2D instance at 0x7f3bac0cdcf8>\n",
      "<utils.ops.ops.BatchNorm instance at 0x7f3bac0cdd40>\n",
      "<utils.ops.ops.Activation instance at 0x7f3bac0cdd88>\n",
      "<utils.ops.ops.Conv2D instance at 0x7f3bac05d1b8>\n",
      "<utils.ops.ops.BatchNorm instance at 0x7f3bac05d170>\n",
      "<utils.ops.ops.Activation instance at 0x7f3bac05d3f8>\n",
      "<utils.ops.ops.Dropout instance at 0x7f3bac05d3b0>\n",
      "<utils.ops.ops.Conv2D instance at 0x7f3bac05d368>\n",
      "<utils.ops.ops.BatchNorm instance at 0x7f3bac05d5a8>\n",
      "<utils.ops.ops.Activation instance at 0x7f3bac05d5f0>\n",
      "<utils.ops.ops.Conv2D instance at 0x7f3bac05d638>\n",
      "<utils.ops.ops.BatchNorm instance at 0x7f3bac05d680>\n",
      "<utils.ops.ops.Activation instance at 0x7f3bac05d6c8>\n",
      "<utils.ops.ops.Dropout instance at 0x7f3bac05d710>\n",
      "<utils.ops.ops.Conv2D instance at 0x7f3bac05d758>\n",
      "<utils.ops.ops.BatchNorm instance at 0x7f3bac05d7a0>\n",
      "<utils.ops.ops.Activation instance at 0x7f3bac05d7e8>\n",
      "<utils.ops.ops.Conv2D instance at 0x7f3bac05d830>\n",
      "<utils.ops.ops.BatchNorm instance at 0x7f3bac05d878>\n",
      "<utils.ops.ops.Activation instance at 0x7f3bac05d8c0>\n",
      "<utils.ops.ops.Dropout instance at 0x7f3bac05d908>\n",
      "<utils.ops.ops.Conv2D instance at 0x7f3bac05d950>\n",
      "<utils.ops.ops.BatchNorm instance at 0x7f3bac05d998>\n",
      "<utils.ops.ops.Activation instance at 0x7f3bac05d9e0>\n",
      "<utils.ops.ops.Conv2D instance at 0x7f3bac066dd0>\n",
      "<utils.ops.ops.BatchNorm instance at 0x7f3bac066d88>\n",
      "<utils.ops.ops.Activation instance at 0x7f3bac066f80>\n",
      "<utils.ops.ops.Dropout instance at 0x7f3bac06d1b8>\n",
      "<utils.ops.ops.Conv2D instance at 0x7f3bac06d050>\n",
      "<utils.ops.ops.BatchNorm instance at 0x7f3bac06d200>\n",
      "<utils.ops.ops.Activation instance at 0x7f3bac06d248>\n",
      "<utils.ops.ops.Conv2D instance at 0x7f3bac06d290>\n",
      "<utils.ops.ops.BatchNorm instance at 0x7f3bac06d2d8>\n",
      "<utils.ops.ops.Activation instance at 0x7f3bac06d320>\n",
      "<utils.ops.ops.Dropout instance at 0x7f3bac06d368>\n",
      "<utils.ops.ops.Conv2D instance at 0x7f3bac06d3b0>\n",
      "<utils.ops.ops.BatchNorm instance at 0x7f3bac06d3f8>\n",
      "<utils.ops.ops.Activation instance at 0x7f3bac06d440>\n",
      "<utils.ops.ops.Conv2D instance at 0x7f3bac06d488>\n",
      "<utils.ops.ops.BatchNorm instance at 0x7f3bac06d4d0>\n",
      "<utils.ops.ops.Activation instance at 0x7f3bac06d518>\n",
      "<utils.ops.ops.Dropout instance at 0x7f3bac06d560>\n",
      "<utils.ops.ops.Conv2D instance at 0x7f3bac06d5a8>\n",
      "<utils.ops.ops.BatchNorm instance at 0x7f3bac06d5f0>\n",
      "<utils.ops.ops.Activation instance at 0x7f3bac06d638>\n",
      "Tensor(\"prediction/add_11:0\", shape=(?, ?, 256, 128), dtype=float32)\n",
      "[<tf.Variable 'centroids:0' shape=(40, 40) dtype=float32_ref>, <tf.Variable 'prediction/W:0' shape=(128, 40) dtype=float32_ref>, <tf.Variable 'prediction/Variable:0' shape=(40,) dtype=float32_ref>, <tf.Variable 'prediction/conv2d/kernel:0' shape=(3, 3, 1, 32) dtype=float32_ref>, <tf.Variable 'prediction/conv2d/bias:0' shape=(32,) dtype=float32_ref>, <tf.Variable 'prediction/batch_normalization/beta:0' shape=(32,) dtype=float32_ref>, <tf.Variable 'prediction/batch_normalization/gamma:0' shape=(32,) dtype=float32_ref>, <tf.Variable 'prediction/conv2d_1/kernel:0' shape=(3, 3, 32, 32) dtype=float32_ref>, <tf.Variable 'prediction/conv2d_1/bias:0' shape=(32,) dtype=float32_ref>, <tf.Variable 'prediction/batch_normalization_1/beta:0' shape=(32,) dtype=float32_ref>, <tf.Variable 'prediction/batch_normalization_1/gamma:0' shape=(32,) dtype=float32_ref>, <tf.Variable 'prediction/conv2d_2/kernel:0' shape=(1, 1, 1, 32) dtype=float32_ref>, <tf.Variable 'prediction/conv2d_2/bias:0' shape=(32,) dtype=float32_ref>, <tf.Variable 'prediction/conv2d_3/kernel:0' shape=(3, 3, 32, 32) dtype=float32_ref>, <tf.Variable 'prediction/conv2d_3/bias:0' shape=(32,) dtype=float32_ref>, <tf.Variable 'prediction/batch_normalization_2/beta:0' shape=(32,) dtype=float32_ref>, <tf.Variable 'prediction/batch_normalization_2/gamma:0' shape=(32,) dtype=float32_ref>, <tf.Variable 'prediction/conv2d_4/kernel:0' shape=(3, 3, 32, 32) dtype=float32_ref>, <tf.Variable 'prediction/conv2d_4/bias:0' shape=(32,) dtype=float32_ref>, <tf.Variable 'prediction/batch_normalization_3/beta:0' shape=(32,) dtype=float32_ref>, <tf.Variable 'prediction/batch_normalization_3/gamma:0' shape=(32,) dtype=float32_ref>, <tf.Variable 'prediction/conv2d_5/kernel:0' shape=(1, 1, 32, 32) dtype=float32_ref>, <tf.Variable 'prediction/conv2d_5/bias:0' shape=(32,) dtype=float32_ref>, <tf.Variable 'prediction/conv2d_6/kernel:0' shape=(3, 3, 32, 32) dtype=float32_ref>, <tf.Variable 'prediction/conv2d_6/bias:0' shape=(32,) dtype=float32_ref>, <tf.Variable 'prediction/batch_normalization_4/beta:0' shape=(32,) dtype=float32_ref>, <tf.Variable 'prediction/batch_normalization_4/gamma:0' shape=(32,) dtype=float32_ref>, <tf.Variable 'prediction/conv2d_7/kernel:0' shape=(3, 3, 32, 32) dtype=float32_ref>, <tf.Variable 'prediction/conv2d_7/bias:0' shape=(32,) dtype=float32_ref>, <tf.Variable 'prediction/batch_normalization_5/beta:0' shape=(32,) dtype=float32_ref>, <tf.Variable 'prediction/batch_normalization_5/gamma:0' shape=(32,) dtype=float32_ref>, <tf.Variable 'prediction/conv2d_8/kernel:0' shape=(1, 1, 32, 32) dtype=float32_ref>, <tf.Variable 'prediction/conv2d_8/bias:0' shape=(32,) dtype=float32_ref>, <tf.Variable 'prediction/conv2d_9/kernel:0' shape=(3, 3, 32, 64) dtype=float32_ref>, <tf.Variable 'prediction/conv2d_9/bias:0' shape=(64,) dtype=float32_ref>, <tf.Variable 'prediction/batch_normalization_6/beta:0' shape=(64,) dtype=float32_ref>, <tf.Variable 'prediction/batch_normalization_6/gamma:0' shape=(64,) dtype=float32_ref>, <tf.Variable 'prediction/conv2d_10/kernel:0' shape=(3, 3, 64, 64) dtype=float32_ref>, <tf.Variable 'prediction/conv2d_10/bias:0' shape=(64,) dtype=float32_ref>, <tf.Variable 'prediction/batch_normalization_7/beta:0' shape=(64,) dtype=float32_ref>, <tf.Variable 'prediction/batch_normalization_7/gamma:0' shape=(64,) dtype=float32_ref>, <tf.Variable 'prediction/conv2d_11/kernel:0' shape=(1, 1, 32, 64) dtype=float32_ref>, <tf.Variable 'prediction/conv2d_11/bias:0' shape=(64,) dtype=float32_ref>, <tf.Variable 'prediction/conv2d_12/kernel:0' shape=(3, 3, 64, 64) dtype=float32_ref>, <tf.Variable 'prediction/conv2d_12/bias:0' shape=(64,) dtype=float32_ref>, <tf.Variable 'prediction/batch_normalization_8/beta:0' shape=(64,) dtype=float32_ref>, <tf.Variable 'prediction/batch_normalization_8/gamma:0' shape=(64,) dtype=float32_ref>, <tf.Variable 'prediction/conv2d_13/kernel:0' shape=(3, 3, 64, 64) dtype=float32_ref>, <tf.Variable 'prediction/conv2d_13/bias:0' shape=(64,) dtype=float32_ref>, <tf.Variable 'prediction/batch_normalization_9/beta:0' shape=(64,) dtype=float32_ref>, <tf.Variable 'prediction/batch_normalization_9/gamma:0' shape=(64,) dtype=float32_ref>, <tf.Variable 'prediction/conv2d_14/kernel:0' shape=(1, 1, 64, 64) dtype=float32_ref>, <tf.Variable 'prediction/conv2d_14/bias:0' shape=(64,) dtype=float32_ref>, <tf.Variable 'prediction/conv2d_15/kernel:0' shape=(3, 3, 64, 64) dtype=float32_ref>, <tf.Variable 'prediction/conv2d_15/bias:0' shape=(64,) dtype=float32_ref>, <tf.Variable 'prediction/batch_normalization_10/beta:0' shape=(64,) dtype=float32_ref>, <tf.Variable 'prediction/batch_normalization_10/gamma:0' shape=(64,) dtype=float32_ref>, <tf.Variable 'prediction/conv2d_16/kernel:0' shape=(3, 3, 64, 64) dtype=float32_ref>, <tf.Variable 'prediction/conv2d_16/bias:0' shape=(64,) dtype=float32_ref>, <tf.Variable 'prediction/batch_normalization_11/beta:0' shape=(64,) dtype=float32_ref>, <tf.Variable 'prediction/batch_normalization_11/gamma:0' shape=(64,) dtype=float32_ref>, <tf.Variable 'prediction/conv2d_17/kernel:0' shape=(1, 1, 64, 64) dtype=float32_ref>, <tf.Variable 'prediction/conv2d_17/bias:0' shape=(64,) dtype=float32_ref>, <tf.Variable 'prediction/conv2d_18/kernel:0' shape=(3, 3, 64, 128) dtype=float32_ref>, <tf.Variable 'prediction/conv2d_18/bias:0' shape=(128,) dtype=float32_ref>, <tf.Variable 'prediction/batch_normalization_12/beta:0' shape=(128,) dtype=float32_ref>, <tf.Variable 'prediction/batch_normalization_12/gamma:0' shape=(128,) dtype=float32_ref>, <tf.Variable 'prediction/conv2d_19/kernel:0' shape=(3, 3, 128, 128) dtype=float32_ref>, <tf.Variable 'prediction/conv2d_19/bias:0' shape=(128,) dtype=float32_ref>, <tf.Variable 'prediction/batch_normalization_13/beta:0' shape=(128,) dtype=float32_ref>, <tf.Variable 'prediction/batch_normalization_13/gamma:0' shape=(128,) dtype=float32_ref>, <tf.Variable 'prediction/conv2d_20/kernel:0' shape=(1, 1, 64, 128) dtype=float32_ref>, <tf.Variable 'prediction/conv2d_20/bias:0' shape=(128,) dtype=float32_ref>, <tf.Variable 'prediction/conv2d_21/kernel:0' shape=(3, 3, 128, 128) dtype=float32_ref>, <tf.Variable 'prediction/conv2d_21/bias:0' shape=(128,) dtype=float32_ref>, <tf.Variable 'prediction/batch_normalization_14/beta:0' shape=(128,) dtype=float32_ref>, <tf.Variable 'prediction/batch_normalization_14/gamma:0' shape=(128,) dtype=float32_ref>, <tf.Variable 'prediction/conv2d_22/kernel:0' shape=(3, 3, 128, 128) dtype=float32_ref>, <tf.Variable 'prediction/conv2d_22/bias:0' shape=(128,) dtype=float32_ref>, <tf.Variable 'prediction/batch_normalization_15/beta:0' shape=(128,) dtype=float32_ref>, <tf.Variable 'prediction/batch_normalization_15/gamma:0' shape=(128,) dtype=float32_ref>, <tf.Variable 'prediction/conv2d_23/kernel:0' shape=(1, 1, 128, 128) dtype=float32_ref>, <tf.Variable 'prediction/conv2d_23/bias:0' shape=(128,) dtype=float32_ref>, <tf.Variable 'prediction/conv2d_24/kernel:0' shape=(3, 3, 128, 128) dtype=float32_ref>, <tf.Variable 'prediction/conv2d_24/bias:0' shape=(128,) dtype=float32_ref>, <tf.Variable 'prediction/batch_normalization_16/beta:0' shape=(128,) dtype=float32_ref>, <tf.Variable 'prediction/batch_normalization_16/gamma:0' shape=(128,) dtype=float32_ref>, <tf.Variable 'prediction/conv2d_25/kernel:0' shape=(3, 3, 128, 128) dtype=float32_ref>, <tf.Variable 'prediction/conv2d_25/bias:0' shape=(128,) dtype=float32_ref>, <tf.Variable 'prediction/batch_normalization_17/beta:0' shape=(128,) dtype=float32_ref>, <tf.Variable 'prediction/batch_normalization_17/gamma:0' shape=(128,) dtype=float32_ref>, <tf.Variable 'prediction/conv2d_26/kernel:0' shape=(1, 1, 128, 128) dtype=float32_ref>, <tf.Variable 'prediction/conv2d_26/bias:0' shape=(128,) dtype=float32_ref>]\n"
     ]
    }
   ],
   "source": [
    "from models.das import DAS\n",
    "\n",
    "with model.graph.as_default():\n",
    "    model.connect_front(DAS)\n",
    "    model.sepNet.output = model.sepNet.prediction\n",
    "    model.cost = model.sepNet.cost\n",
    "    model.freeze_front()\n",
    "    model.optimize\n",
    "    model.tensorboard_init()"
   ]
  },
  {
   "cell_type": "code",
   "execution_count": 7,
   "metadata": {},
   "outputs": [
    {
     "name": "stdout",
     "output_type": "stream",
     "text": [
      "[<tf.Variable 'centroids:0' shape=(40, 40) dtype=float32_ref>, <tf.Variable 'prediction/W:0' shape=(128, 40) dtype=float32_ref>, <tf.Variable 'prediction/Variable:0' shape=(40,) dtype=float32_ref>, <tf.Variable 'prediction/conv2d/kernel:0' shape=(3, 3, 1, 32) dtype=float32_ref>, <tf.Variable 'prediction/conv2d/bias:0' shape=(32,) dtype=float32_ref>, <tf.Variable 'prediction/batch_normalization/beta:0' shape=(32,) dtype=float32_ref>, <tf.Variable 'prediction/batch_normalization/gamma:0' shape=(32,) dtype=float32_ref>, <tf.Variable 'prediction/batch_normalization/moving_mean:0' shape=(32,) dtype=float32_ref>, <tf.Variable 'prediction/batch_normalization/moving_variance:0' shape=(32,) dtype=float32_ref>, <tf.Variable 'prediction/conv2d_1/kernel:0' shape=(3, 3, 32, 32) dtype=float32_ref>, <tf.Variable 'prediction/conv2d_1/bias:0' shape=(32,) dtype=float32_ref>, <tf.Variable 'prediction/batch_normalization_1/beta:0' shape=(32,) dtype=float32_ref>, <tf.Variable 'prediction/batch_normalization_1/gamma:0' shape=(32,) dtype=float32_ref>, <tf.Variable 'prediction/batch_normalization_1/moving_mean:0' shape=(32,) dtype=float32_ref>, <tf.Variable 'prediction/batch_normalization_1/moving_variance:0' shape=(32,) dtype=float32_ref>, <tf.Variable 'prediction/conv2d_2/kernel:0' shape=(1, 1, 1, 32) dtype=float32_ref>, <tf.Variable 'prediction/conv2d_2/bias:0' shape=(32,) dtype=float32_ref>, <tf.Variable 'prediction/conv2d_3/kernel:0' shape=(3, 3, 32, 32) dtype=float32_ref>, <tf.Variable 'prediction/conv2d_3/bias:0' shape=(32,) dtype=float32_ref>, <tf.Variable 'prediction/batch_normalization_2/beta:0' shape=(32,) dtype=float32_ref>, <tf.Variable 'prediction/batch_normalization_2/gamma:0' shape=(32,) dtype=float32_ref>, <tf.Variable 'prediction/batch_normalization_2/moving_mean:0' shape=(32,) dtype=float32_ref>, <tf.Variable 'prediction/batch_normalization_2/moving_variance:0' shape=(32,) dtype=float32_ref>, <tf.Variable 'prediction/conv2d_4/kernel:0' shape=(3, 3, 32, 32) dtype=float32_ref>, <tf.Variable 'prediction/conv2d_4/bias:0' shape=(32,) dtype=float32_ref>, <tf.Variable 'prediction/batch_normalization_3/beta:0' shape=(32,) dtype=float32_ref>, <tf.Variable 'prediction/batch_normalization_3/gamma:0' shape=(32,) dtype=float32_ref>, <tf.Variable 'prediction/batch_normalization_3/moving_mean:0' shape=(32,) dtype=float32_ref>, <tf.Variable 'prediction/batch_normalization_3/moving_variance:0' shape=(32,) dtype=float32_ref>, <tf.Variable 'prediction/conv2d_5/kernel:0' shape=(1, 1, 32, 32) dtype=float32_ref>, <tf.Variable 'prediction/conv2d_5/bias:0' shape=(32,) dtype=float32_ref>, <tf.Variable 'prediction/conv2d_6/kernel:0' shape=(3, 3, 32, 32) dtype=float32_ref>, <tf.Variable 'prediction/conv2d_6/bias:0' shape=(32,) dtype=float32_ref>, <tf.Variable 'prediction/batch_normalization_4/beta:0' shape=(32,) dtype=float32_ref>, <tf.Variable 'prediction/batch_normalization_4/gamma:0' shape=(32,) dtype=float32_ref>, <tf.Variable 'prediction/batch_normalization_4/moving_mean:0' shape=(32,) dtype=float32_ref>, <tf.Variable 'prediction/batch_normalization_4/moving_variance:0' shape=(32,) dtype=float32_ref>, <tf.Variable 'prediction/conv2d_7/kernel:0' shape=(3, 3, 32, 32) dtype=float32_ref>, <tf.Variable 'prediction/conv2d_7/bias:0' shape=(32,) dtype=float32_ref>, <tf.Variable 'prediction/batch_normalization_5/beta:0' shape=(32,) dtype=float32_ref>, <tf.Variable 'prediction/batch_normalization_5/gamma:0' shape=(32,) dtype=float32_ref>, <tf.Variable 'prediction/batch_normalization_5/moving_mean:0' shape=(32,) dtype=float32_ref>, <tf.Variable 'prediction/batch_normalization_5/moving_variance:0' shape=(32,) dtype=float32_ref>, <tf.Variable 'prediction/conv2d_8/kernel:0' shape=(1, 1, 32, 32) dtype=float32_ref>, <tf.Variable 'prediction/conv2d_8/bias:0' shape=(32,) dtype=float32_ref>, <tf.Variable 'prediction/conv2d_9/kernel:0' shape=(3, 3, 32, 64) dtype=float32_ref>, <tf.Variable 'prediction/conv2d_9/bias:0' shape=(64,) dtype=float32_ref>, <tf.Variable 'prediction/batch_normalization_6/beta:0' shape=(64,) dtype=float32_ref>, <tf.Variable 'prediction/batch_normalization_6/gamma:0' shape=(64,) dtype=float32_ref>, <tf.Variable 'prediction/batch_normalization_6/moving_mean:0' shape=(64,) dtype=float32_ref>, <tf.Variable 'prediction/batch_normalization_6/moving_variance:0' shape=(64,) dtype=float32_ref>, <tf.Variable 'prediction/conv2d_10/kernel:0' shape=(3, 3, 64, 64) dtype=float32_ref>, <tf.Variable 'prediction/conv2d_10/bias:0' shape=(64,) dtype=float32_ref>, <tf.Variable 'prediction/batch_normalization_7/beta:0' shape=(64,) dtype=float32_ref>, <tf.Variable 'prediction/batch_normalization_7/gamma:0' shape=(64,) dtype=float32_ref>, <tf.Variable 'prediction/batch_normalization_7/moving_mean:0' shape=(64,) dtype=float32_ref>, <tf.Variable 'prediction/batch_normalization_7/moving_variance:0' shape=(64,) dtype=float32_ref>, <tf.Variable 'prediction/conv2d_11/kernel:0' shape=(1, 1, 32, 64) dtype=float32_ref>, <tf.Variable 'prediction/conv2d_11/bias:0' shape=(64,) dtype=float32_ref>, <tf.Variable 'prediction/conv2d_12/kernel:0' shape=(3, 3, 64, 64) dtype=float32_ref>, <tf.Variable 'prediction/conv2d_12/bias:0' shape=(64,) dtype=float32_ref>, <tf.Variable 'prediction/batch_normalization_8/beta:0' shape=(64,) dtype=float32_ref>, <tf.Variable 'prediction/batch_normalization_8/gamma:0' shape=(64,) dtype=float32_ref>, <tf.Variable 'prediction/batch_normalization_8/moving_mean:0' shape=(64,) dtype=float32_ref>, <tf.Variable 'prediction/batch_normalization_8/moving_variance:0' shape=(64,) dtype=float32_ref>, <tf.Variable 'prediction/conv2d_13/kernel:0' shape=(3, 3, 64, 64) dtype=float32_ref>, <tf.Variable 'prediction/conv2d_13/bias:0' shape=(64,) dtype=float32_ref>, <tf.Variable 'prediction/batch_normalization_9/beta:0' shape=(64,) dtype=float32_ref>, <tf.Variable 'prediction/batch_normalization_9/gamma:0' shape=(64,) dtype=float32_ref>, <tf.Variable 'prediction/batch_normalization_9/moving_mean:0' shape=(64,) dtype=float32_ref>, <tf.Variable 'prediction/batch_normalization_9/moving_variance:0' shape=(64,) dtype=float32_ref>, <tf.Variable 'prediction/conv2d_14/kernel:0' shape=(1, 1, 64, 64) dtype=float32_ref>, <tf.Variable 'prediction/conv2d_14/bias:0' shape=(64,) dtype=float32_ref>, <tf.Variable 'prediction/conv2d_15/kernel:0' shape=(3, 3, 64, 64) dtype=float32_ref>, <tf.Variable 'prediction/conv2d_15/bias:0' shape=(64,) dtype=float32_ref>, <tf.Variable 'prediction/batch_normalization_10/beta:0' shape=(64,) dtype=float32_ref>, <tf.Variable 'prediction/batch_normalization_10/gamma:0' shape=(64,) dtype=float32_ref>, <tf.Variable 'prediction/batch_normalization_10/moving_mean:0' shape=(64,) dtype=float32_ref>, <tf.Variable 'prediction/batch_normalization_10/moving_variance:0' shape=(64,) dtype=float32_ref>, <tf.Variable 'prediction/conv2d_16/kernel:0' shape=(3, 3, 64, 64) dtype=float32_ref>, <tf.Variable 'prediction/conv2d_16/bias:0' shape=(64,) dtype=float32_ref>, <tf.Variable 'prediction/batch_normalization_11/beta:0' shape=(64,) dtype=float32_ref>, <tf.Variable 'prediction/batch_normalization_11/gamma:0' shape=(64,) dtype=float32_ref>, <tf.Variable 'prediction/batch_normalization_11/moving_mean:0' shape=(64,) dtype=float32_ref>, <tf.Variable 'prediction/batch_normalization_11/moving_variance:0' shape=(64,) dtype=float32_ref>, <tf.Variable 'prediction/conv2d_17/kernel:0' shape=(1, 1, 64, 64) dtype=float32_ref>, <tf.Variable 'prediction/conv2d_17/bias:0' shape=(64,) dtype=float32_ref>, <tf.Variable 'prediction/conv2d_18/kernel:0' shape=(3, 3, 64, 128) dtype=float32_ref>, <tf.Variable 'prediction/conv2d_18/bias:0' shape=(128,) dtype=float32_ref>, <tf.Variable 'prediction/batch_normalization_12/beta:0' shape=(128,) dtype=float32_ref>, <tf.Variable 'prediction/batch_normalization_12/gamma:0' shape=(128,) dtype=float32_ref>, <tf.Variable 'prediction/batch_normalization_12/moving_mean:0' shape=(128,) dtype=float32_ref>, <tf.Variable 'prediction/batch_normalization_12/moving_variance:0' shape=(128,) dtype=float32_ref>, <tf.Variable 'prediction/conv2d_19/kernel:0' shape=(3, 3, 128, 128) dtype=float32_ref>, <tf.Variable 'prediction/conv2d_19/bias:0' shape=(128,) dtype=float32_ref>, <tf.Variable 'prediction/batch_normalization_13/beta:0' shape=(128,) dtype=float32_ref>, <tf.Variable 'prediction/batch_normalization_13/gamma:0' shape=(128,) dtype=float32_ref>, <tf.Variable 'prediction/batch_normalization_13/moving_mean:0' shape=(128,) dtype=float32_ref>, <tf.Variable 'prediction/batch_normalization_13/moving_variance:0' shape=(128,) dtype=float32_ref>, <tf.Variable 'prediction/conv2d_20/kernel:0' shape=(1, 1, 64, 128) dtype=float32_ref>, <tf.Variable 'prediction/conv2d_20/bias:0' shape=(128,) dtype=float32_ref>, <tf.Variable 'prediction/conv2d_21/kernel:0' shape=(3, 3, 128, 128) dtype=float32_ref>, <tf.Variable 'prediction/conv2d_21/bias:0' shape=(128,) dtype=float32_ref>, <tf.Variable 'prediction/batch_normalization_14/beta:0' shape=(128,) dtype=float32_ref>, <tf.Variable 'prediction/batch_normalization_14/gamma:0' shape=(128,) dtype=float32_ref>, <tf.Variable 'prediction/batch_normalization_14/moving_mean:0' shape=(128,) dtype=float32_ref>, <tf.Variable 'prediction/batch_normalization_14/moving_variance:0' shape=(128,) dtype=float32_ref>, <tf.Variable 'prediction/conv2d_22/kernel:0' shape=(3, 3, 128, 128) dtype=float32_ref>, <tf.Variable 'prediction/conv2d_22/bias:0' shape=(128,) dtype=float32_ref>, <tf.Variable 'prediction/batch_normalization_15/beta:0' shape=(128,) dtype=float32_ref>, <tf.Variable 'prediction/batch_normalization_15/gamma:0' shape=(128,) dtype=float32_ref>, <tf.Variable 'prediction/batch_normalization_15/moving_mean:0' shape=(128,) dtype=float32_ref>, <tf.Variable 'prediction/batch_normalization_15/moving_variance:0' shape=(128,) dtype=float32_ref>, <tf.Variable 'prediction/conv2d_23/kernel:0' shape=(1, 1, 128, 128) dtype=float32_ref>, <tf.Variable 'prediction/conv2d_23/bias:0' shape=(128,) dtype=float32_ref>, <tf.Variable 'prediction/conv2d_24/kernel:0' shape=(3, 3, 128, 128) dtype=float32_ref>, <tf.Variable 'prediction/conv2d_24/bias:0' shape=(128,) dtype=float32_ref>, <tf.Variable 'prediction/batch_normalization_16/beta:0' shape=(128,) dtype=float32_ref>, <tf.Variable 'prediction/batch_normalization_16/gamma:0' shape=(128,) dtype=float32_ref>, <tf.Variable 'prediction/batch_normalization_16/moving_mean:0' shape=(128,) dtype=float32_ref>, <tf.Variable 'prediction/batch_normalization_16/moving_variance:0' shape=(128,) dtype=float32_ref>, <tf.Variable 'prediction/conv2d_25/kernel:0' shape=(3, 3, 128, 128) dtype=float32_ref>, <tf.Variable 'prediction/conv2d_25/bias:0' shape=(128,) dtype=float32_ref>, <tf.Variable 'prediction/batch_normalization_17/beta:0' shape=(128,) dtype=float32_ref>, <tf.Variable 'prediction/batch_normalization_17/gamma:0' shape=(128,) dtype=float32_ref>, <tf.Variable 'prediction/batch_normalization_17/moving_mean:0' shape=(128,) dtype=float32_ref>, <tf.Variable 'prediction/batch_normalization_17/moving_variance:0' shape=(128,) dtype=float32_ref>, <tf.Variable 'prediction/conv2d_26/kernel:0' shape=(1, 1, 128, 128) dtype=float32_ref>, <tf.Variable 'prediction/conv2d_26/bias:0' shape=(128,) dtype=float32_ref>, <tf.Variable 'optimize/centroids/RMSProp:0' shape=(40, 40) dtype=float32_ref>, <tf.Variable 'optimize/centroids/RMSProp_1:0' shape=(40, 40) dtype=float32_ref>, <tf.Variable 'optimize/prediction/W/RMSProp:0' shape=(128, 40) dtype=float32_ref>, <tf.Variable 'optimize/prediction/W/RMSProp_1:0' shape=(128, 40) dtype=float32_ref>, <tf.Variable 'optimize/prediction/Variable/RMSProp:0' shape=(40,) dtype=float32_ref>, <tf.Variable 'optimize/prediction/Variable/RMSProp_1:0' shape=(40,) dtype=float32_ref>, <tf.Variable 'optimize/prediction/conv2d/kernel/RMSProp:0' shape=(3, 3, 1, 32) dtype=float32_ref>, <tf.Variable 'optimize/prediction/conv2d/kernel/RMSProp_1:0' shape=(3, 3, 1, 32) dtype=float32_ref>, <tf.Variable 'optimize/prediction/conv2d/bias/RMSProp:0' shape=(32,) dtype=float32_ref>, <tf.Variable 'optimize/prediction/conv2d/bias/RMSProp_1:0' shape=(32,) dtype=float32_ref>, <tf.Variable 'optimize/prediction/batch_normalization/beta/RMSProp:0' shape=(32,) dtype=float32_ref>, <tf.Variable 'optimize/prediction/batch_normalization/beta/RMSProp_1:0' shape=(32,) dtype=float32_ref>, <tf.Variable 'optimize/prediction/batch_normalization/gamma/RMSProp:0' shape=(32,) dtype=float32_ref>, <tf.Variable 'optimize/prediction/batch_normalization/gamma/RMSProp_1:0' shape=(32,) dtype=float32_ref>, <tf.Variable 'optimize/prediction/conv2d_1/kernel/RMSProp:0' shape=(3, 3, 32, 32) dtype=float32_ref>, <tf.Variable 'optimize/prediction/conv2d_1/kernel/RMSProp_1:0' shape=(3, 3, 32, 32) dtype=float32_ref>, <tf.Variable 'optimize/prediction/conv2d_1/bias/RMSProp:0' shape=(32,) dtype=float32_ref>, <tf.Variable 'optimize/prediction/conv2d_1/bias/RMSProp_1:0' shape=(32,) dtype=float32_ref>, <tf.Variable 'optimize/prediction/batch_normalization_1/beta/RMSProp:0' shape=(32,) dtype=float32_ref>, <tf.Variable 'optimize/prediction/batch_normalization_1/beta/RMSProp_1:0' shape=(32,) dtype=float32_ref>, <tf.Variable 'optimize/prediction/batch_normalization_1/gamma/RMSProp:0' shape=(32,) dtype=float32_ref>, <tf.Variable 'optimize/prediction/batch_normalization_1/gamma/RMSProp_1:0' shape=(32,) dtype=float32_ref>, <tf.Variable 'optimize/prediction/conv2d_2/kernel/RMSProp:0' shape=(1, 1, 1, 32) dtype=float32_ref>, <tf.Variable 'optimize/prediction/conv2d_2/kernel/RMSProp_1:0' shape=(1, 1, 1, 32) dtype=float32_ref>, <tf.Variable 'optimize/prediction/conv2d_2/bias/RMSProp:0' shape=(32,) dtype=float32_ref>, <tf.Variable 'optimize/prediction/conv2d_2/bias/RMSProp_1:0' shape=(32,) dtype=float32_ref>, <tf.Variable 'optimize/prediction/conv2d_3/kernel/RMSProp:0' shape=(3, 3, 32, 32) dtype=float32_ref>, <tf.Variable 'optimize/prediction/conv2d_3/kernel/RMSProp_1:0' shape=(3, 3, 32, 32) dtype=float32_ref>, <tf.Variable 'optimize/prediction/conv2d_3/bias/RMSProp:0' shape=(32,) dtype=float32_ref>, <tf.Variable 'optimize/prediction/conv2d_3/bias/RMSProp_1:0' shape=(32,) dtype=float32_ref>, <tf.Variable 'optimize/prediction/batch_normalization_2/beta/RMSProp:0' shape=(32,) dtype=float32_ref>, <tf.Variable 'optimize/prediction/batch_normalization_2/beta/RMSProp_1:0' shape=(32,) dtype=float32_ref>, <tf.Variable 'optimize/prediction/batch_normalization_2/gamma/RMSProp:0' shape=(32,) dtype=float32_ref>, <tf.Variable 'optimize/prediction/batch_normalization_2/gamma/RMSProp_1:0' shape=(32,) dtype=float32_ref>, <tf.Variable 'optimize/prediction/conv2d_4/kernel/RMSProp:0' shape=(3, 3, 32, 32) dtype=float32_ref>, <tf.Variable 'optimize/prediction/conv2d_4/kernel/RMSProp_1:0' shape=(3, 3, 32, 32) dtype=float32_ref>, <tf.Variable 'optimize/prediction/conv2d_4/bias/RMSProp:0' shape=(32,) dtype=float32_ref>, <tf.Variable 'optimize/prediction/conv2d_4/bias/RMSProp_1:0' shape=(32,) dtype=float32_ref>, <tf.Variable 'optimize/prediction/batch_normalization_3/beta/RMSProp:0' shape=(32,) dtype=float32_ref>, <tf.Variable 'optimize/prediction/batch_normalization_3/beta/RMSProp_1:0' shape=(32,) dtype=float32_ref>, <tf.Variable 'optimize/prediction/batch_normalization_3/gamma/RMSProp:0' shape=(32,) dtype=float32_ref>, <tf.Variable 'optimize/prediction/batch_normalization_3/gamma/RMSProp_1:0' shape=(32,) dtype=float32_ref>, <tf.Variable 'optimize/prediction/conv2d_5/kernel/RMSProp:0' shape=(1, 1, 32, 32) dtype=float32_ref>, <tf.Variable 'optimize/prediction/conv2d_5/kernel/RMSProp_1:0' shape=(1, 1, 32, 32) dtype=float32_ref>, <tf.Variable 'optimize/prediction/conv2d_5/bias/RMSProp:0' shape=(32,) dtype=float32_ref>, <tf.Variable 'optimize/prediction/conv2d_5/bias/RMSProp_1:0' shape=(32,) dtype=float32_ref>, <tf.Variable 'optimize/prediction/conv2d_6/kernel/RMSProp:0' shape=(3, 3, 32, 32) dtype=float32_ref>, <tf.Variable 'optimize/prediction/conv2d_6/kernel/RMSProp_1:0' shape=(3, 3, 32, 32) dtype=float32_ref>, <tf.Variable 'optimize/prediction/conv2d_6/bias/RMSProp:0' shape=(32,) dtype=float32_ref>, <tf.Variable 'optimize/prediction/conv2d_6/bias/RMSProp_1:0' shape=(32,) dtype=float32_ref>, <tf.Variable 'optimize/prediction/batch_normalization_4/beta/RMSProp:0' shape=(32,) dtype=float32_ref>, <tf.Variable 'optimize/prediction/batch_normalization_4/beta/RMSProp_1:0' shape=(32,) dtype=float32_ref>, <tf.Variable 'optimize/prediction/batch_normalization_4/gamma/RMSProp:0' shape=(32,) dtype=float32_ref>, <tf.Variable 'optimize/prediction/batch_normalization_4/gamma/RMSProp_1:0' shape=(32,) dtype=float32_ref>, <tf.Variable 'optimize/prediction/conv2d_7/kernel/RMSProp:0' shape=(3, 3, 32, 32) dtype=float32_ref>, <tf.Variable 'optimize/prediction/conv2d_7/kernel/RMSProp_1:0' shape=(3, 3, 32, 32) dtype=float32_ref>, <tf.Variable 'optimize/prediction/conv2d_7/bias/RMSProp:0' shape=(32,) dtype=float32_ref>, <tf.Variable 'optimize/prediction/conv2d_7/bias/RMSProp_1:0' shape=(32,) dtype=float32_ref>, <tf.Variable 'optimize/prediction/batch_normalization_5/beta/RMSProp:0' shape=(32,) dtype=float32_ref>, <tf.Variable 'optimize/prediction/batch_normalization_5/beta/RMSProp_1:0' shape=(32,) dtype=float32_ref>, <tf.Variable 'optimize/prediction/batch_normalization_5/gamma/RMSProp:0' shape=(32,) dtype=float32_ref>, <tf.Variable 'optimize/prediction/batch_normalization_5/gamma/RMSProp_1:0' shape=(32,) dtype=float32_ref>, <tf.Variable 'optimize/prediction/conv2d_8/kernel/RMSProp:0' shape=(1, 1, 32, 32) dtype=float32_ref>, <tf.Variable 'optimize/prediction/conv2d_8/kernel/RMSProp_1:0' shape=(1, 1, 32, 32) dtype=float32_ref>, <tf.Variable 'optimize/prediction/conv2d_8/bias/RMSProp:0' shape=(32,) dtype=float32_ref>, <tf.Variable 'optimize/prediction/conv2d_8/bias/RMSProp_1:0' shape=(32,) dtype=float32_ref>, <tf.Variable 'optimize/prediction/conv2d_9/kernel/RMSProp:0' shape=(3, 3, 32, 64) dtype=float32_ref>, <tf.Variable 'optimize/prediction/conv2d_9/kernel/RMSProp_1:0' shape=(3, 3, 32, 64) dtype=float32_ref>, <tf.Variable 'optimize/prediction/conv2d_9/bias/RMSProp:0' shape=(64,) dtype=float32_ref>, <tf.Variable 'optimize/prediction/conv2d_9/bias/RMSProp_1:0' shape=(64,) dtype=float32_ref>, <tf.Variable 'optimize/prediction/batch_normalization_6/beta/RMSProp:0' shape=(64,) dtype=float32_ref>, <tf.Variable 'optimize/prediction/batch_normalization_6/beta/RMSProp_1:0' shape=(64,) dtype=float32_ref>, <tf.Variable 'optimize/prediction/batch_normalization_6/gamma/RMSProp:0' shape=(64,) dtype=float32_ref>, <tf.Variable 'optimize/prediction/batch_normalization_6/gamma/RMSProp_1:0' shape=(64,) dtype=float32_ref>, <tf.Variable 'optimize/prediction/conv2d_10/kernel/RMSProp:0' shape=(3, 3, 64, 64) dtype=float32_ref>, <tf.Variable 'optimize/prediction/conv2d_10/kernel/RMSProp_1:0' shape=(3, 3, 64, 64) dtype=float32_ref>, <tf.Variable 'optimize/prediction/conv2d_10/bias/RMSProp:0' shape=(64,) dtype=float32_ref>, <tf.Variable 'optimize/prediction/conv2d_10/bias/RMSProp_1:0' shape=(64,) dtype=float32_ref>, <tf.Variable 'optimize/prediction/batch_normalization_7/beta/RMSProp:0' shape=(64,) dtype=float32_ref>, <tf.Variable 'optimize/prediction/batch_normalization_7/beta/RMSProp_1:0' shape=(64,) dtype=float32_ref>, <tf.Variable 'optimize/prediction/batch_normalization_7/gamma/RMSProp:0' shape=(64,) dtype=float32_ref>, <tf.Variable 'optimize/prediction/batch_normalization_7/gamma/RMSProp_1:0' shape=(64,) dtype=float32_ref>, <tf.Variable 'optimize/prediction/conv2d_11/kernel/RMSProp:0' shape=(1, 1, 32, 64) dtype=float32_ref>, <tf.Variable 'optimize/prediction/conv2d_11/kernel/RMSProp_1:0' shape=(1, 1, 32, 64) dtype=float32_ref>, <tf.Variable 'optimize/prediction/conv2d_11/bias/RMSProp:0' shape=(64,) dtype=float32_ref>, <tf.Variable 'optimize/prediction/conv2d_11/bias/RMSProp_1:0' shape=(64,) dtype=float32_ref>, <tf.Variable 'optimize/prediction/conv2d_12/kernel/RMSProp:0' shape=(3, 3, 64, 64) dtype=float32_ref>, <tf.Variable 'optimize/prediction/conv2d_12/kernel/RMSProp_1:0' shape=(3, 3, 64, 64) dtype=float32_ref>, <tf.Variable 'optimize/prediction/conv2d_12/bias/RMSProp:0' shape=(64,) dtype=float32_ref>, <tf.Variable 'optimize/prediction/conv2d_12/bias/RMSProp_1:0' shape=(64,) dtype=float32_ref>, <tf.Variable 'optimize/prediction/batch_normalization_8/beta/RMSProp:0' shape=(64,) dtype=float32_ref>, <tf.Variable 'optimize/prediction/batch_normalization_8/beta/RMSProp_1:0' shape=(64,) dtype=float32_ref>, <tf.Variable 'optimize/prediction/batch_normalization_8/gamma/RMSProp:0' shape=(64,) dtype=float32_ref>, <tf.Variable 'optimize/prediction/batch_normalization_8/gamma/RMSProp_1:0' shape=(64,) dtype=float32_ref>, <tf.Variable 'optimize/prediction/conv2d_13/kernel/RMSProp:0' shape=(3, 3, 64, 64) dtype=float32_ref>, <tf.Variable 'optimize/prediction/conv2d_13/kernel/RMSProp_1:0' shape=(3, 3, 64, 64) dtype=float32_ref>, <tf.Variable 'optimize/prediction/conv2d_13/bias/RMSProp:0' shape=(64,) dtype=float32_ref>, <tf.Variable 'optimize/prediction/conv2d_13/bias/RMSProp_1:0' shape=(64,) dtype=float32_ref>, <tf.Variable 'optimize/prediction/batch_normalization_9/beta/RMSProp:0' shape=(64,) dtype=float32_ref>, <tf.Variable 'optimize/prediction/batch_normalization_9/beta/RMSProp_1:0' shape=(64,) dtype=float32_ref>, <tf.Variable 'optimize/prediction/batch_normalization_9/gamma/RMSProp:0' shape=(64,) dtype=float32_ref>, <tf.Variable 'optimize/prediction/batch_normalization_9/gamma/RMSProp_1:0' shape=(64,) dtype=float32_ref>, <tf.Variable 'optimize/prediction/conv2d_14/kernel/RMSProp:0' shape=(1, 1, 64, 64) dtype=float32_ref>, <tf.Variable 'optimize/prediction/conv2d_14/kernel/RMSProp_1:0' shape=(1, 1, 64, 64) dtype=float32_ref>, <tf.Variable 'optimize/prediction/conv2d_14/bias/RMSProp:0' shape=(64,) dtype=float32_ref>, <tf.Variable 'optimize/prediction/conv2d_14/bias/RMSProp_1:0' shape=(64,) dtype=float32_ref>, <tf.Variable 'optimize/prediction/conv2d_15/kernel/RMSProp:0' shape=(3, 3, 64, 64) dtype=float32_ref>, <tf.Variable 'optimize/prediction/conv2d_15/kernel/RMSProp_1:0' shape=(3, 3, 64, 64) dtype=float32_ref>, <tf.Variable 'optimize/prediction/conv2d_15/bias/RMSProp:0' shape=(64,) dtype=float32_ref>, <tf.Variable 'optimize/prediction/conv2d_15/bias/RMSProp_1:0' shape=(64,) dtype=float32_ref>, <tf.Variable 'optimize/prediction/batch_normalization_10/beta/RMSProp:0' shape=(64,) dtype=float32_ref>, <tf.Variable 'optimize/prediction/batch_normalization_10/beta/RMSProp_1:0' shape=(64,) dtype=float32_ref>, <tf.Variable 'optimize/prediction/batch_normalization_10/gamma/RMSProp:0' shape=(64,) dtype=float32_ref>, <tf.Variable 'optimize/prediction/batch_normalization_10/gamma/RMSProp_1:0' shape=(64,) dtype=float32_ref>, <tf.Variable 'optimize/prediction/conv2d_16/kernel/RMSProp:0' shape=(3, 3, 64, 64) dtype=float32_ref>, <tf.Variable 'optimize/prediction/conv2d_16/kernel/RMSProp_1:0' shape=(3, 3, 64, 64) dtype=float32_ref>, <tf.Variable 'optimize/prediction/conv2d_16/bias/RMSProp:0' shape=(64,) dtype=float32_ref>, <tf.Variable 'optimize/prediction/conv2d_16/bias/RMSProp_1:0' shape=(64,) dtype=float32_ref>, <tf.Variable 'optimize/prediction/batch_normalization_11/beta/RMSProp:0' shape=(64,) dtype=float32_ref>, <tf.Variable 'optimize/prediction/batch_normalization_11/beta/RMSProp_1:0' shape=(64,) dtype=float32_ref>, <tf.Variable 'optimize/prediction/batch_normalization_11/gamma/RMSProp:0' shape=(64,) dtype=float32_ref>, <tf.Variable 'optimize/prediction/batch_normalization_11/gamma/RMSProp_1:0' shape=(64,) dtype=float32_ref>, <tf.Variable 'optimize/prediction/conv2d_17/kernel/RMSProp:0' shape=(1, 1, 64, 64) dtype=float32_ref>, <tf.Variable 'optimize/prediction/conv2d_17/kernel/RMSProp_1:0' shape=(1, 1, 64, 64) dtype=float32_ref>, <tf.Variable 'optimize/prediction/conv2d_17/bias/RMSProp:0' shape=(64,) dtype=float32_ref>, <tf.Variable 'optimize/prediction/conv2d_17/bias/RMSProp_1:0' shape=(64,) dtype=float32_ref>, <tf.Variable 'optimize/prediction/conv2d_18/kernel/RMSProp:0' shape=(3, 3, 64, 128) dtype=float32_ref>, <tf.Variable 'optimize/prediction/conv2d_18/kernel/RMSProp_1:0' shape=(3, 3, 64, 128) dtype=float32_ref>, <tf.Variable 'optimize/prediction/conv2d_18/bias/RMSProp:0' shape=(128,) dtype=float32_ref>, <tf.Variable 'optimize/prediction/conv2d_18/bias/RMSProp_1:0' shape=(128,) dtype=float32_ref>, <tf.Variable 'optimize/prediction/batch_normalization_12/beta/RMSProp:0' shape=(128,) dtype=float32_ref>, <tf.Variable 'optimize/prediction/batch_normalization_12/beta/RMSProp_1:0' shape=(128,) dtype=float32_ref>, <tf.Variable 'optimize/prediction/batch_normalization_12/gamma/RMSProp:0' shape=(128,) dtype=float32_ref>, <tf.Variable 'optimize/prediction/batch_normalization_12/gamma/RMSProp_1:0' shape=(128,) dtype=float32_ref>, <tf.Variable 'optimize/prediction/conv2d_19/kernel/RMSProp:0' shape=(3, 3, 128, 128) dtype=float32_ref>, <tf.Variable 'optimize/prediction/conv2d_19/kernel/RMSProp_1:0' shape=(3, 3, 128, 128) dtype=float32_ref>, <tf.Variable 'optimize/prediction/conv2d_19/bias/RMSProp:0' shape=(128,) dtype=float32_ref>, <tf.Variable 'optimize/prediction/conv2d_19/bias/RMSProp_1:0' shape=(128,) dtype=float32_ref>, <tf.Variable 'optimize/prediction/batch_normalization_13/beta/RMSProp:0' shape=(128,) dtype=float32_ref>, <tf.Variable 'optimize/prediction/batch_normalization_13/beta/RMSProp_1:0' shape=(128,) dtype=float32_ref>, <tf.Variable 'optimize/prediction/batch_normalization_13/gamma/RMSProp:0' shape=(128,) dtype=float32_ref>, <tf.Variable 'optimize/prediction/batch_normalization_13/gamma/RMSProp_1:0' shape=(128,) dtype=float32_ref>, <tf.Variable 'optimize/prediction/conv2d_20/kernel/RMSProp:0' shape=(1, 1, 64, 128) dtype=float32_ref>, <tf.Variable 'optimize/prediction/conv2d_20/kernel/RMSProp_1:0' shape=(1, 1, 64, 128) dtype=float32_ref>, <tf.Variable 'optimize/prediction/conv2d_20/bias/RMSProp:0' shape=(128,) dtype=float32_ref>, <tf.Variable 'optimize/prediction/conv2d_20/bias/RMSProp_1:0' shape=(128,) dtype=float32_ref>, <tf.Variable 'optimize/prediction/conv2d_21/kernel/RMSProp:0' shape=(3, 3, 128, 128) dtype=float32_ref>, <tf.Variable 'optimize/prediction/conv2d_21/kernel/RMSProp_1:0' shape=(3, 3, 128, 128) dtype=float32_ref>, <tf.Variable 'optimize/prediction/conv2d_21/bias/RMSProp:0' shape=(128,) dtype=float32_ref>, <tf.Variable 'optimize/prediction/conv2d_21/bias/RMSProp_1:0' shape=(128,) dtype=float32_ref>, <tf.Variable 'optimize/prediction/batch_normalization_14/beta/RMSProp:0' shape=(128,) dtype=float32_ref>, <tf.Variable 'optimize/prediction/batch_normalization_14/beta/RMSProp_1:0' shape=(128,) dtype=float32_ref>, <tf.Variable 'optimize/prediction/batch_normalization_14/gamma/RMSProp:0' shape=(128,) dtype=float32_ref>, <tf.Variable 'optimize/prediction/batch_normalization_14/gamma/RMSProp_1:0' shape=(128,) dtype=float32_ref>, <tf.Variable 'optimize/prediction/conv2d_22/kernel/RMSProp:0' shape=(3, 3, 128, 128) dtype=float32_ref>, <tf.Variable 'optimize/prediction/conv2d_22/kernel/RMSProp_1:0' shape=(3, 3, 128, 128) dtype=float32_ref>, <tf.Variable 'optimize/prediction/conv2d_22/bias/RMSProp:0' shape=(128,) dtype=float32_ref>, <tf.Variable 'optimize/prediction/conv2d_22/bias/RMSProp_1:0' shape=(128,) dtype=float32_ref>, <tf.Variable 'optimize/prediction/batch_normalization_15/beta/RMSProp:0' shape=(128,) dtype=float32_ref>, <tf.Variable 'optimize/prediction/batch_normalization_15/beta/RMSProp_1:0' shape=(128,) dtype=float32_ref>, <tf.Variable 'optimize/prediction/batch_normalization_15/gamma/RMSProp:0' shape=(128,) dtype=float32_ref>, <tf.Variable 'optimize/prediction/batch_normalization_15/gamma/RMSProp_1:0' shape=(128,) dtype=float32_ref>, <tf.Variable 'optimize/prediction/conv2d_23/kernel/RMSProp:0' shape=(1, 1, 128, 128) dtype=float32_ref>, <tf.Variable 'optimize/prediction/conv2d_23/kernel/RMSProp_1:0' shape=(1, 1, 128, 128) dtype=float32_ref>, <tf.Variable 'optimize/prediction/conv2d_23/bias/RMSProp:0' shape=(128,) dtype=float32_ref>, <tf.Variable 'optimize/prediction/conv2d_23/bias/RMSProp_1:0' shape=(128,) dtype=float32_ref>, <tf.Variable 'optimize/prediction/conv2d_24/kernel/RMSProp:0' shape=(3, 3, 128, 128) dtype=float32_ref>, <tf.Variable 'optimize/prediction/conv2d_24/kernel/RMSProp_1:0' shape=(3, 3, 128, 128) dtype=float32_ref>, <tf.Variable 'optimize/prediction/conv2d_24/bias/RMSProp:0' shape=(128,) dtype=float32_ref>, <tf.Variable 'optimize/prediction/conv2d_24/bias/RMSProp_1:0' shape=(128,) dtype=float32_ref>, <tf.Variable 'optimize/prediction/batch_normalization_16/beta/RMSProp:0' shape=(128,) dtype=float32_ref>, <tf.Variable 'optimize/prediction/batch_normalization_16/beta/RMSProp_1:0' shape=(128,) dtype=float32_ref>, <tf.Variable 'optimize/prediction/batch_normalization_16/gamma/RMSProp:0' shape=(128,) dtype=float32_ref>, <tf.Variable 'optimize/prediction/batch_normalization_16/gamma/RMSProp_1:0' shape=(128,) dtype=float32_ref>, <tf.Variable 'optimize/prediction/conv2d_25/kernel/RMSProp:0' shape=(3, 3, 128, 128) dtype=float32_ref>, <tf.Variable 'optimize/prediction/conv2d_25/kernel/RMSProp_1:0' shape=(3, 3, 128, 128) dtype=float32_ref>, <tf.Variable 'optimize/prediction/conv2d_25/bias/RMSProp:0' shape=(128,) dtype=float32_ref>, <tf.Variable 'optimize/prediction/conv2d_25/bias/RMSProp_1:0' shape=(128,) dtype=float32_ref>, <tf.Variable 'optimize/prediction/batch_normalization_17/beta/RMSProp:0' shape=(128,) dtype=float32_ref>, <tf.Variable 'optimize/prediction/batch_normalization_17/beta/RMSProp_1:0' shape=(128,) dtype=float32_ref>, <tf.Variable 'optimize/prediction/batch_normalization_17/gamma/RMSProp:0' shape=(128,) dtype=float32_ref>, <tf.Variable 'optimize/prediction/batch_normalization_17/gamma/RMSProp_1:0' shape=(128,) dtype=float32_ref>, <tf.Variable 'optimize/prediction/conv2d_26/kernel/RMSProp:0' shape=(1, 1, 128, 128) dtype=float32_ref>, <tf.Variable 'optimize/prediction/conv2d_26/kernel/RMSProp_1:0' shape=(1, 1, 128, 128) dtype=float32_ref>, <tf.Variable 'optimize/prediction/conv2d_26/bias/RMSProp:0' shape=(128,) dtype=float32_ref>, <tf.Variable 'optimize/prediction/conv2d_26/bias/RMSProp_1:0' shape=(128,) dtype=float32_ref>]\n"
     ]
    }
   ],
   "source": [
    "from itertools import compress\n",
    "with model.graph.as_default():\n",
    "    global_vars = tf.global_variables()\n",
    "    is_not_initialized = model.sess.run([~(tf.is_variable_initialized(var)) \\\n",
    "                                   for var in global_vars])\n",
    "    not_initialized_vars = list(compress(global_vars, is_not_initialized))\n",
    "    print not_initialized_vars\n",
    "    if len(not_initialized_vars):\n",
    "        init = tf.variables_initializer(not_initialized_vars)\n"
   ]
  },
  {
   "cell_type": "markdown",
   "metadata": {},
   "source": [
    "# Model creation"
   ]
  },
  {
   "cell_type": "markdown",
   "metadata": {},
   "source": [
    "# Pretraining the model "
   ]
  },
  {
   "cell_type": "code",
   "execution_count": 8,
   "metadata": {},
   "outputs": [
    {
     "name": "stdout",
     "output_type": "stream",
     "text": [
      "Step # 0  loss= 0.693147\n",
      "DAS model saved at iteration number  0  with cost =  0.693147\n",
      "Step # 1  loss= 0.693172\n",
      "Step # 2  loss= 0.692207\n",
      "Step # 3  loss= 0.691733\n",
      "Step # 4  loss= 0.69277\n",
      "Step # 5  loss= 0.695828\n",
      "Step # 6  loss= 0.694639\n",
      "Step # 7  loss= 0.69309\n",
      "Step # 8  loss= 0.690242\n",
      "Step # 9  loss= 0.692835\n",
      "Step # 10  loss= 0.69209\n",
      "Step # 11  loss= 0.695121\n",
      "Step # 12  loss= 0.687855\n",
      "Step # 13  loss= 0.691004\n",
      "Step # 14  loss= 0.693573\n",
      "Step # 15  loss= 0.699587\n",
      "Step # 16  loss= 0.692351\n",
      "Step # 17  loss= 0.69584\n",
      "Step # 18  loss= 0.694558\n"
     ]
    },
    {
     "ename": "KeyboardInterrupt",
     "evalue": "",
     "output_type": "error",
     "traceback": [
      "\u001b[0;31m---------------------------------------------------------------------------\u001b[0m",
      "\u001b[0;31mKeyboardInterrupt\u001b[0m                         Traceback (most recent call last)",
      "\u001b[0;32m<ipython-input-8-91e50d18959a>\u001b[0m in \u001b[0;36m<module>\u001b[0;34m()\u001b[0m\n\u001b[1;32m      6\u001b[0m \u001b[0;32mfor\u001b[0m \u001b[0mi\u001b[0m \u001b[0;32min\u001b[0m \u001b[0mrange\u001b[0m\u001b[0;34m(\u001b[0m\u001b[0mnb_iterations\u001b[0m\u001b[0;34m)\u001b[0m\u001b[0;34m:\u001b[0m\u001b[0;34m\u001b[0m\u001b[0m\n\u001b[1;32m      7\u001b[0m     \u001b[0mX_in\u001b[0m\u001b[0;34m,\u001b[0m \u001b[0mX_mix\u001b[0m\u001b[0;34m,\u001b[0m \u001b[0mInd\u001b[0m \u001b[0;34m=\u001b[0m \u001b[0mmixed_data\u001b[0m\u001b[0;34m.\u001b[0m\u001b[0mget_batch\u001b[0m\u001b[0;34m(\u001b[0m\u001b[0mbatch_size\u001b[0m\u001b[0;34m)\u001b[0m\u001b[0;34m\u001b[0m\u001b[0m\n\u001b[0;32m----> 8\u001b[0;31m     \u001b[0mc\u001b[0m \u001b[0;34m=\u001b[0m \u001b[0mmodel\u001b[0m\u001b[0;34m.\u001b[0m\u001b[0mtrain\u001b[0m\u001b[0;34m(\u001b[0m\u001b[0mX_mix\u001b[0m\u001b[0;34m,\u001b[0m \u001b[0mX_in\u001b[0m\u001b[0;34m,\u001b[0m\u001b[0mlearning_rate\u001b[0m\u001b[0;34m,\u001b[0m \u001b[0mi\u001b[0m\u001b[0;34m,\u001b[0m \u001b[0mind_train\u001b[0m\u001b[0;34m=\u001b[0m\u001b[0mInd\u001b[0m\u001b[0;34m)\u001b[0m\u001b[0;34m\u001b[0m\u001b[0m\n\u001b[0m\u001b[1;32m      9\u001b[0m     \u001b[0;32mprint\u001b[0m \u001b[0;34m'Step #'\u001b[0m  \u001b[0;34m,\u001b[0m\u001b[0mi\u001b[0m\u001b[0;34m,\u001b[0m\u001b[0;34m' loss='\u001b[0m\u001b[0;34m,\u001b[0m \u001b[0mc\u001b[0m\u001b[0;34m\u001b[0m\u001b[0m\n\u001b[1;32m     10\u001b[0m \u001b[0;34m\u001b[0m\u001b[0m\n",
      "\u001b[0;32m/home/anthony/das/models/adapt.pyc\u001b[0m in \u001b[0;36mtrain\u001b[0;34m(self, X_mix, X_in, learning_rate, step, ind_train)\u001b[0m\n\u001b[1;32m    290\u001b[0m                         \u001b[0msummary\u001b[0m\u001b[0;34m,\u001b[0m \u001b[0m_\u001b[0m\u001b[0;34m,\u001b[0m \u001b[0mcost\u001b[0m \u001b[0;34m=\u001b[0m \u001b[0mself\u001b[0m\u001b[0;34m.\u001b[0m\u001b[0msess\u001b[0m\u001b[0;34m.\u001b[0m\u001b[0mrun\u001b[0m\u001b[0;34m(\u001b[0m\u001b[0;34m[\u001b[0m\u001b[0mself\u001b[0m\u001b[0;34m.\u001b[0m\u001b[0mmerged\u001b[0m\u001b[0;34m,\u001b[0m \u001b[0mself\u001b[0m\u001b[0;34m.\u001b[0m\u001b[0moptimize\u001b[0m\u001b[0;34m,\u001b[0m \u001b[0mself\u001b[0m\u001b[0;34m.\u001b[0m\u001b[0mcost\u001b[0m\u001b[0;34m]\u001b[0m\u001b[0;34m,\u001b[0m \u001b[0;34m{\u001b[0m\u001b[0mself\u001b[0m\u001b[0;34m.\u001b[0m\u001b[0mX_mix\u001b[0m\u001b[0;34m:\u001b[0m \u001b[0mX_mix\u001b[0m\u001b[0;34m,\u001b[0m \u001b[0mself\u001b[0m\u001b[0;34m.\u001b[0m\u001b[0mX_non_mix\u001b[0m\u001b[0;34m:\u001b[0m\u001b[0mX_in\u001b[0m\u001b[0;34m,\u001b[0m \u001b[0mself\u001b[0m\u001b[0;34m.\u001b[0m\u001b[0mlearning_rate\u001b[0m\u001b[0;34m:\u001b[0m\u001b[0mlearning_rate\u001b[0m\u001b[0;34m}\u001b[0m\u001b[0;34m)\u001b[0m\u001b[0;34m\u001b[0m\u001b[0m\n\u001b[1;32m    291\u001b[0m                 \u001b[0;32melse\u001b[0m\u001b[0;34m:\u001b[0m\u001b[0;34m\u001b[0m\u001b[0m\n\u001b[0;32m--> 292\u001b[0;31m                         \u001b[0msummary\u001b[0m\u001b[0;34m,\u001b[0m \u001b[0m_\u001b[0m\u001b[0;34m,\u001b[0m \u001b[0mcost\u001b[0m \u001b[0;34m=\u001b[0m \u001b[0mself\u001b[0m\u001b[0;34m.\u001b[0m\u001b[0msess\u001b[0m\u001b[0;34m.\u001b[0m\u001b[0mrun\u001b[0m\u001b[0;34m(\u001b[0m\u001b[0;34m[\u001b[0m\u001b[0mself\u001b[0m\u001b[0;34m.\u001b[0m\u001b[0mmerged\u001b[0m\u001b[0;34m,\u001b[0m \u001b[0mself\u001b[0m\u001b[0;34m.\u001b[0m\u001b[0moptimize\u001b[0m\u001b[0;34m,\u001b[0m \u001b[0mself\u001b[0m\u001b[0;34m.\u001b[0m\u001b[0mcost\u001b[0m\u001b[0;34m]\u001b[0m\u001b[0;34m,\u001b[0m \u001b[0;34m{\u001b[0m\u001b[0mself\u001b[0m\u001b[0;34m.\u001b[0m\u001b[0mX_mix\u001b[0m\u001b[0;34m:\u001b[0m \u001b[0mX_mix\u001b[0m\u001b[0;34m,\u001b[0m \u001b[0mself\u001b[0m\u001b[0;34m.\u001b[0m\u001b[0mX_non_mix\u001b[0m\u001b[0;34m:\u001b[0m\u001b[0mX_in\u001b[0m\u001b[0;34m,\u001b[0m \u001b[0mself\u001b[0m\u001b[0;34m.\u001b[0m\u001b[0mInd\u001b[0m\u001b[0;34m:\u001b[0m\u001b[0mind_train\u001b[0m\u001b[0;34m,\u001b[0m \u001b[0mself\u001b[0m\u001b[0;34m.\u001b[0m\u001b[0mlearning_rate\u001b[0m\u001b[0;34m:\u001b[0m\u001b[0mlearning_rate\u001b[0m\u001b[0;34m}\u001b[0m\u001b[0;34m)\u001b[0m\u001b[0;34m\u001b[0m\u001b[0m\n\u001b[0m\u001b[1;32m    293\u001b[0m \u001b[0;34m\u001b[0m\u001b[0m\n\u001b[1;32m    294\u001b[0m                 \u001b[0mself\u001b[0m\u001b[0;34m.\u001b[0m\u001b[0mtrain_writer\u001b[0m\u001b[0;34m.\u001b[0m\u001b[0madd_summary\u001b[0m\u001b[0;34m(\u001b[0m\u001b[0msummary\u001b[0m\u001b[0;34m,\u001b[0m \u001b[0mstep\u001b[0m\u001b[0;34m)\u001b[0m\u001b[0;34m\u001b[0m\u001b[0m\n",
      "\u001b[0;32m/usr/local/lib/python2.7/dist-packages/tensorflow/python/client/session.pyc\u001b[0m in \u001b[0;36mrun\u001b[0;34m(self, fetches, feed_dict, options, run_metadata)\u001b[0m\n\u001b[1;32m    893\u001b[0m     \u001b[0;32mtry\u001b[0m\u001b[0;34m:\u001b[0m\u001b[0;34m\u001b[0m\u001b[0m\n\u001b[1;32m    894\u001b[0m       result = self._run(None, fetches, feed_dict, options_ptr,\n\u001b[0;32m--> 895\u001b[0;31m                          run_metadata_ptr)\n\u001b[0m\u001b[1;32m    896\u001b[0m       \u001b[0;32mif\u001b[0m \u001b[0mrun_metadata\u001b[0m\u001b[0;34m:\u001b[0m\u001b[0;34m\u001b[0m\u001b[0m\n\u001b[1;32m    897\u001b[0m         \u001b[0mproto_data\u001b[0m \u001b[0;34m=\u001b[0m \u001b[0mtf_session\u001b[0m\u001b[0;34m.\u001b[0m\u001b[0mTF_GetBuffer\u001b[0m\u001b[0;34m(\u001b[0m\u001b[0mrun_metadata_ptr\u001b[0m\u001b[0;34m)\u001b[0m\u001b[0;34m\u001b[0m\u001b[0m\n",
      "\u001b[0;32m/usr/local/lib/python2.7/dist-packages/tensorflow/python/client/session.pyc\u001b[0m in \u001b[0;36m_run\u001b[0;34m(self, handle, fetches, feed_dict, options, run_metadata)\u001b[0m\n\u001b[1;32m   1122\u001b[0m     \u001b[0;32mif\u001b[0m \u001b[0mfinal_fetches\u001b[0m \u001b[0;32mor\u001b[0m \u001b[0mfinal_targets\u001b[0m \u001b[0;32mor\u001b[0m \u001b[0;34m(\u001b[0m\u001b[0mhandle\u001b[0m \u001b[0;32mand\u001b[0m \u001b[0mfeed_dict_tensor\u001b[0m\u001b[0;34m)\u001b[0m\u001b[0;34m:\u001b[0m\u001b[0;34m\u001b[0m\u001b[0m\n\u001b[1;32m   1123\u001b[0m       results = self._do_run(handle, final_targets, final_fetches,\n\u001b[0;32m-> 1124\u001b[0;31m                              feed_dict_tensor, options, run_metadata)\n\u001b[0m\u001b[1;32m   1125\u001b[0m     \u001b[0;32melse\u001b[0m\u001b[0;34m:\u001b[0m\u001b[0;34m\u001b[0m\u001b[0m\n\u001b[1;32m   1126\u001b[0m       \u001b[0mresults\u001b[0m \u001b[0;34m=\u001b[0m \u001b[0;34m[\u001b[0m\u001b[0;34m]\u001b[0m\u001b[0;34m\u001b[0m\u001b[0m\n",
      "\u001b[0;32m/usr/local/lib/python2.7/dist-packages/tensorflow/python/client/session.pyc\u001b[0m in \u001b[0;36m_do_run\u001b[0;34m(self, handle, target_list, fetch_list, feed_dict, options, run_metadata)\u001b[0m\n\u001b[1;32m   1319\u001b[0m     \u001b[0;32mif\u001b[0m \u001b[0mhandle\u001b[0m \u001b[0;32mis\u001b[0m \u001b[0mNone\u001b[0m\u001b[0;34m:\u001b[0m\u001b[0;34m\u001b[0m\u001b[0m\n\u001b[1;32m   1320\u001b[0m       return self._do_call(_run_fn, self._session, feeds, fetches, targets,\n\u001b[0;32m-> 1321\u001b[0;31m                            options, run_metadata)\n\u001b[0m\u001b[1;32m   1322\u001b[0m     \u001b[0;32melse\u001b[0m\u001b[0;34m:\u001b[0m\u001b[0;34m\u001b[0m\u001b[0m\n\u001b[1;32m   1323\u001b[0m       \u001b[0;32mreturn\u001b[0m \u001b[0mself\u001b[0m\u001b[0;34m.\u001b[0m\u001b[0m_do_call\u001b[0m\u001b[0;34m(\u001b[0m\u001b[0m_prun_fn\u001b[0m\u001b[0;34m,\u001b[0m \u001b[0mself\u001b[0m\u001b[0;34m.\u001b[0m\u001b[0m_session\u001b[0m\u001b[0;34m,\u001b[0m \u001b[0mhandle\u001b[0m\u001b[0;34m,\u001b[0m \u001b[0mfeeds\u001b[0m\u001b[0;34m,\u001b[0m \u001b[0mfetches\u001b[0m\u001b[0;34m)\u001b[0m\u001b[0;34m\u001b[0m\u001b[0m\n",
      "\u001b[0;32m/usr/local/lib/python2.7/dist-packages/tensorflow/python/client/session.pyc\u001b[0m in \u001b[0;36m_do_call\u001b[0;34m(self, fn, *args)\u001b[0m\n\u001b[1;32m   1325\u001b[0m   \u001b[0;32mdef\u001b[0m \u001b[0m_do_call\u001b[0m\u001b[0;34m(\u001b[0m\u001b[0mself\u001b[0m\u001b[0;34m,\u001b[0m \u001b[0mfn\u001b[0m\u001b[0;34m,\u001b[0m \u001b[0;34m*\u001b[0m\u001b[0margs\u001b[0m\u001b[0;34m)\u001b[0m\u001b[0;34m:\u001b[0m\u001b[0;34m\u001b[0m\u001b[0m\n\u001b[1;32m   1326\u001b[0m     \u001b[0;32mtry\u001b[0m\u001b[0;34m:\u001b[0m\u001b[0;34m\u001b[0m\u001b[0m\n\u001b[0;32m-> 1327\u001b[0;31m       \u001b[0;32mreturn\u001b[0m \u001b[0mfn\u001b[0m\u001b[0;34m(\u001b[0m\u001b[0;34m*\u001b[0m\u001b[0margs\u001b[0m\u001b[0;34m)\u001b[0m\u001b[0;34m\u001b[0m\u001b[0m\n\u001b[0m\u001b[1;32m   1328\u001b[0m     \u001b[0;32mexcept\u001b[0m \u001b[0merrors\u001b[0m\u001b[0;34m.\u001b[0m\u001b[0mOpError\u001b[0m \u001b[0;32mas\u001b[0m \u001b[0me\u001b[0m\u001b[0;34m:\u001b[0m\u001b[0;34m\u001b[0m\u001b[0m\n\u001b[1;32m   1329\u001b[0m       \u001b[0mmessage\u001b[0m \u001b[0;34m=\u001b[0m \u001b[0mcompat\u001b[0m\u001b[0;34m.\u001b[0m\u001b[0mas_text\u001b[0m\u001b[0;34m(\u001b[0m\u001b[0me\u001b[0m\u001b[0;34m.\u001b[0m\u001b[0mmessage\u001b[0m\u001b[0;34m)\u001b[0m\u001b[0;34m\u001b[0m\u001b[0m\n",
      "\u001b[0;32m/usr/local/lib/python2.7/dist-packages/tensorflow/python/client/session.pyc\u001b[0m in \u001b[0;36m_run_fn\u001b[0;34m(session, feed_dict, fetch_list, target_list, options, run_metadata)\u001b[0m\n\u001b[1;32m   1304\u001b[0m           return tf_session.TF_Run(session, options,\n\u001b[1;32m   1305\u001b[0m                                    \u001b[0mfeed_dict\u001b[0m\u001b[0;34m,\u001b[0m \u001b[0mfetch_list\u001b[0m\u001b[0;34m,\u001b[0m \u001b[0mtarget_list\u001b[0m\u001b[0;34m,\u001b[0m\u001b[0;34m\u001b[0m\u001b[0m\n\u001b[0;32m-> 1306\u001b[0;31m                                    status, run_metadata)\n\u001b[0m\u001b[1;32m   1307\u001b[0m \u001b[0;34m\u001b[0m\u001b[0m\n\u001b[1;32m   1308\u001b[0m     \u001b[0;32mdef\u001b[0m \u001b[0m_prun_fn\u001b[0m\u001b[0;34m(\u001b[0m\u001b[0msession\u001b[0m\u001b[0;34m,\u001b[0m \u001b[0mhandle\u001b[0m\u001b[0;34m,\u001b[0m \u001b[0mfeed_dict\u001b[0m\u001b[0;34m,\u001b[0m \u001b[0mfetch_list\u001b[0m\u001b[0;34m)\u001b[0m\u001b[0;34m:\u001b[0m\u001b[0;34m\u001b[0m\u001b[0m\n",
      "\u001b[0;31mKeyboardInterrupt\u001b[0m: "
     ]
    }
   ],
   "source": [
    "nb_iterations = 1000\n",
    "\n",
    "#initialize the model\n",
    "model.sess.run(init)\n",
    "\n",
    "for i in range(nb_iterations):\n",
    "    X_in, X_mix, Ind = mixed_data.get_batch(batch_size)\n",
    "    c = model.train(X_mix, X_in,learning_rate, i, ind_train=Ind)\n",
    "    print 'Step #'  ,i,' loss=', c \n",
    "\n",
    "    if i%20 == 0: #cost_valid < cost_valid_min:\n",
    "        print 'DAS model saved at iteration number ', i,' with cost = ', c \n",
    "        model.save(i)"
   ]
  }
 ],
 "metadata": {
  "kernelspec": {
   "display_name": "Python 2",
   "language": "python",
   "name": "python2"
  },
  "language_info": {
   "codemirror_mode": {
    "name": "ipython",
    "version": 2
   },
   "file_extension": ".py",
   "mimetype": "text/x-python",
   "name": "python",
   "nbconvert_exporter": "python",
   "pygments_lexer": "ipython2",
   "version": "2.7.12"
  }
 },
 "nbformat": 4,
 "nbformat_minor": 2
}
